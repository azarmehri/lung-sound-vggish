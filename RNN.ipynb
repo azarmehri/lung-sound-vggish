{
 "cells": [
  {
   "cell_type": "markdown",
   "metadata": {},
   "source": [
    "# Feature Extraction"
   ]
  },
  {
   "cell_type": "code",
   "execution_count": 1,
   "metadata": {},
   "outputs": [],
   "source": [
    "import glob\n",
    "import numpy as np\n",
    "import vggish_input\n",
    "\n",
    "all_examples = []\n",
    "\n",
    "for f in glob.glob(\"sounds/healthy/*\"):\n",
    "    ex = vggish_input.wavfile_to_examples(f);\n",
    "    all_examples.append(np.reshape(ex[10:], (10, 96, 64, 1)))\n",
    "    all_examples.append(np.reshape(ex[-10:], (10, 96, 64, 1)))\n",
    "    \n",
    "for f in glob.glob(\"sounds/copd/*\"):\n",
    "    ex = vggish_input.wavfile_to_examples(f);\n",
    "    all_examples.append(np.reshape(ex[10:], (10, 96, 64, 1)))\n",
    "    all_examples.append(np.reshape(ex[-10:], (10, 96, 64, 1)))\n",
    "    \n",
    "all_examples = np.array(all_examples)\n",
    "\n",
    "healthy_labels = np.array([[1, 0]] * 70)\n",
    "copd_labels = np.array([[0, 1]] * 70)\n",
    "all_labels = np.concatenate((healthy_labels, copd_labels))"
   ]
  },
  {
   "cell_type": "markdown",
   "metadata": {},
   "source": [
    "# shuffle all"
   ]
  },
  {
   "cell_type": "code",
   "execution_count": 8,
   "metadata": {},
   "outputs": [],
   "source": [
    "from random import shuffle\n",
    "\n",
    "labeled_examples = list(zip(all_examples, all_labels))\n",
    "shuffle(labeled_examples)\n",
    "\n",
    "features = np.array([example for (example, _) in labeled_examples])\n",
    "labels = np.array([label for (_, label) in labeled_examples])"
   ]
  },
  {
   "cell_type": "code",
   "execution_count": 3,
   "metadata": {},
   "outputs": [],
   "source": [
    "from tensorflow.keras.models import Sequential\n",
    "from tensorflow.keras.layers import Conv2D, MaxPooling2D, Flatten, Dense\n",
    "import vggish_params\n",
    "\n",
    "vggish_model = Sequential()\n",
    "\n",
    "# Block 1\n",
    "vggish_model.add(Conv2D(64, (3, 3), activation='relu', padding='same', name='conv1', input_shape=(vggish_params.NUM_FRAMES, vggish_params.NUM_BANDS, 1), trainable=False))\n",
    "vggish_model.add(MaxPooling2D(padding='same', name='pool1'))\n",
    "\n",
    "# Block 2\n",
    "vggish_model.add(Conv2D(128, (3, 3), activation='relu', padding='same', name='conv2', trainable=False))\n",
    "vggish_model.add(MaxPooling2D(padding='same', name='pool2'))\n",
    "\n",
    "# Block 3\n",
    "vggish_model.add(Conv2D(256, (3, 3), activation='relu', padding='same', name='conv3/conv3_1', trainable=False))\n",
    "vggish_model.add(Conv2D(256, (3, 3), activation='relu', padding='same', name='conv3/conv3_2', trainable=False))\n",
    "vggish_model.add(MaxPooling2D(padding='same', name='pool3'))\n",
    "\n",
    "# Block 4\n",
    "vggish_model.add(Conv2D(512, (3, 3), activation='relu', padding='same', name='conv4/conv4_1', trainable=False))\n",
    "vggish_model.add(Conv2D(512, (3, 3), activation='relu', padding='same', name='conv4/conv4_2', trainable=False))\n",
    "vggish_model.add(MaxPooling2D(padding='same', name='pool4'))\n",
    "\n",
    "# FC block\n",
    "vggish_model.add(Flatten(name='flatten_'))\n",
    "vggish_model.add(Dense(4096, activation='relu', name='fc1/fc1_1', trainable=False))\n",
    "vggish_model.add(Dense(4096, activation='relu', name='fc1/fc1_2', trainable=False))\n",
    "vggish_model.add(Dense(vggish_params.EMBEDDING_SIZE, activation='relu', name='fc2', trainable=False))\n",
    "\n",
    "vggish_model.load_weights('vggish_model.h5', by_name=True)"
   ]
  },
  {
   "cell_type": "code",
   "execution_count": 5,
   "metadata": {},
   "outputs": [
    {
     "name": "stdout",
     "output_type": "stream",
     "text": [
      "Model: \"sequential_2\"\n",
      "_________________________________________________________________\n",
      "Layer (type)                 Output Shape              Param #   \n",
      "=================================================================\n",
      "time_distributed_1 (TimeDist (None, 10, 128)           72141184  \n",
      "_________________________________________________________________\n",
      "bidirectional_1 (Bidirection (None, 256)               198144    \n",
      "_________________________________________________________________\n",
      "dense_1 (Dense)              (None, 2)                 514       \n",
      "=================================================================\n",
      "Total params: 72,339,842\n",
      "Trainable params: 198,658\n",
      "Non-trainable params: 72,141,184\n",
      "_________________________________________________________________\n",
      "None\n"
     ]
    }
   ],
   "source": [
    "from tensorflow.keras.layers import TimeDistributed, Bidirectional, GRU\n",
    "from tensorflow.keras import optimizers\n",
    "\n",
    "model = Sequential()\n",
    "model.add(TimeDistributed(vggish_model, input_shape=(10, vggish_params.NUM_FRAMES, vggish_params.NUM_BANDS, 1)))\n",
    "model.add(Bidirectional(GRU(128)))\n",
    "model.add(Dense(2, activation='softmax'))\n",
    "\n",
    "opt = optimizers.Adam(lr=0.0001, beta_1=0.9, beta_2=0.999, epsilon=None, decay=0.00, amsgrad=False)\n",
    "model.compile(optimizer=opt, loss='categorical_crossentropy', metrics=['acc'])\n",
    "\n",
    "print(model.summary())"
   ]
  },
  {
   "cell_type": "code",
   "execution_count": 9,
   "metadata": {},
   "outputs": [
    {
     "name": "stdout",
     "output_type": "stream",
     "text": [
      "Train on 119 samples, validate on 21 samples\n",
      "Epoch 1/50\n",
      "119/119 [==============================] - 16s 136ms/sample - loss: 0.6939 - acc: 0.5126 - val_loss: 0.6935 - val_acc: 0.3810\n",
      "Epoch 2/50\n",
      "119/119 [==============================] - 3s 21ms/sample - loss: 0.6924 - acc: 0.4958 - val_loss: 0.6893 - val_acc: 0.6190\n",
      "Epoch 3/50\n",
      "119/119 [==============================] - 3s 21ms/sample - loss: 0.6915 - acc: 0.4790 - val_loss: 0.6846 - val_acc: 0.6190\n",
      "Epoch 4/50\n",
      "119/119 [==============================] - 3s 21ms/sample - loss: 0.6905 - acc: 0.4790 - val_loss: 0.6835 - val_acc: 0.6190\n",
      "Epoch 5/50\n",
      "119/119 [==============================] - 3s 21ms/sample - loss: 0.6896 - acc: 0.4790 - val_loss: 0.6810 - val_acc: 0.6190\n",
      "Epoch 6/50\n",
      "119/119 [==============================] - 3s 21ms/sample - loss: 0.6889 - acc: 0.4790 - val_loss: 0.6790 - val_acc: 0.6190\n",
      "Epoch 7/50\n",
      "119/119 [==============================] - 3s 21ms/sample - loss: 0.6879 - acc: 0.4790 - val_loss: 0.6802 - val_acc: 0.6667\n",
      "Epoch 8/50\n",
      "119/119 [==============================] - 3s 21ms/sample - loss: 0.6869 - acc: 0.5210 - val_loss: 0.6788 - val_acc: 0.6667\n",
      "Epoch 9/50\n",
      "119/119 [==============================] - 3s 21ms/sample - loss: 0.6858 - acc: 0.5210 - val_loss: 0.6778 - val_acc: 0.6667\n",
      "Epoch 10/50\n",
      "119/119 [==============================] - 3s 21ms/sample - loss: 0.6847 - acc: 0.5294 - val_loss: 0.6757 - val_acc: 0.6667\n",
      "Epoch 11/50\n",
      "119/119 [==============================] - 3s 21ms/sample - loss: 0.6836 - acc: 0.5378 - val_loss: 0.6745 - val_acc: 0.6667\n",
      "Epoch 12/50\n",
      "119/119 [==============================] - 3s 21ms/sample - loss: 0.6824 - acc: 0.5378 - val_loss: 0.6713 - val_acc: 0.6667\n",
      "Epoch 13/50\n",
      "119/119 [==============================] - 3s 21ms/sample - loss: 0.6809 - acc: 0.5378 - val_loss: 0.6696 - val_acc: 0.6667\n",
      "Epoch 14/50\n",
      "119/119 [==============================] - 3s 21ms/sample - loss: 0.6795 - acc: 0.5882 - val_loss: 0.6694 - val_acc: 0.7619\n",
      "Epoch 15/50\n",
      "119/119 [==============================] - 3s 21ms/sample - loss: 0.6776 - acc: 0.6471 - val_loss: 0.6670 - val_acc: 0.8095\n",
      "Epoch 16/50\n",
      "119/119 [==============================] - 3s 21ms/sample - loss: 0.6755 - acc: 0.6218 - val_loss: 0.6625 - val_acc: 0.7619\n",
      "Epoch 17/50\n",
      "119/119 [==============================] - 3s 21ms/sample - loss: 0.6735 - acc: 0.5882 - val_loss: 0.6560 - val_acc: 0.6667\n",
      "Epoch 18/50\n",
      "119/119 [==============================] - 3s 21ms/sample - loss: 0.6714 - acc: 0.5546 - val_loss: 0.6492 - val_acc: 0.6667\n",
      "Epoch 19/50\n",
      "119/119 [==============================] - 3s 21ms/sample - loss: 0.6683 - acc: 0.5546 - val_loss: 0.6459 - val_acc: 0.6667\n",
      "Epoch 20/50\n",
      "119/119 [==============================] - 3s 21ms/sample - loss: 0.6659 - acc: 0.5546 - val_loss: 0.6387 - val_acc: 0.6667\n",
      "Epoch 21/50\n",
      "119/119 [==============================] - 3s 21ms/sample - loss: 0.6614 - acc: 0.6218 - val_loss: 0.6396 - val_acc: 0.8571\n",
      "Epoch 22/50\n",
      "119/119 [==============================] - 3s 21ms/sample - loss: 0.6551 - acc: 0.7311 - val_loss: 0.6344 - val_acc: 0.8571\n",
      "Epoch 23/50\n",
      "119/119 [==============================] - 3s 21ms/sample - loss: 0.6489 - acc: 0.7731 - val_loss: 0.6283 - val_acc: 0.8571\n",
      "Epoch 24/50\n",
      "119/119 [==============================] - 3s 21ms/sample - loss: 0.6409 - acc: 0.8655 - val_loss: 0.6229 - val_acc: 0.8571\n",
      "Epoch 25/50\n",
      "119/119 [==============================] - 3s 21ms/sample - loss: 0.6297 - acc: 0.8571 - val_loss: 0.6015 - val_acc: 0.8571\n",
      "Epoch 26/50\n",
      "119/119 [==============================] - 3s 21ms/sample - loss: 0.6145 - acc: 0.8235 - val_loss: 0.5806 - val_acc: 0.8571\n",
      "Epoch 27/50\n",
      "119/119 [==============================] - 3s 21ms/sample - loss: 0.5945 - acc: 0.8739 - val_loss: 0.5571 - val_acc: 0.8571\n",
      "Epoch 28/50\n",
      "119/119 [==============================] - 3s 21ms/sample - loss: 0.5683 - acc: 0.8908 - val_loss: 0.5230 - val_acc: 0.8571\n",
      "Epoch 29/50\n",
      "119/119 [==============================] - 3s 21ms/sample - loss: 0.5323 - acc: 0.8992 - val_loss: 0.4856 - val_acc: 0.9048\n",
      "Epoch 30/50\n",
      "119/119 [==============================] - 3s 21ms/sample - loss: 0.4832 - acc: 0.8908 - val_loss: 0.4193 - val_acc: 0.9048\n",
      "Epoch 31/50\n",
      "119/119 [==============================] - 3s 21ms/sample - loss: 0.4271 - acc: 0.8824 - val_loss: 0.3824 - val_acc: 0.9048\n",
      "Epoch 32/50\n",
      "119/119 [==============================] - 3s 21ms/sample - loss: 0.3878 - acc: 0.8739 - val_loss: 0.3435 - val_acc: 0.9048\n",
      "Epoch 33/50\n",
      "119/119 [==============================] - 3s 22ms/sample - loss: 0.3341 - acc: 0.8992 - val_loss: 0.3162 - val_acc: 0.9048\n",
      "Epoch 34/50\n",
      "119/119 [==============================] - 3s 21ms/sample - loss: 0.3299 - acc: 0.8992 - val_loss: 0.3093 - val_acc: 0.9048\n",
      "Epoch 35/50\n",
      "119/119 [==============================] - 3s 21ms/sample - loss: 0.3261 - acc: 0.8908 - val_loss: 0.3043 - val_acc: 0.9048\n",
      "Epoch 36/50\n",
      "119/119 [==============================] - 3s 21ms/sample - loss: 0.2954 - acc: 0.8824 - val_loss: 0.3028 - val_acc: 0.9524\n",
      "Epoch 37/50\n",
      "119/119 [==============================] - 3s 21ms/sample - loss: 0.2984 - acc: 0.8908 - val_loss: 0.3007 - val_acc: 0.9048\n",
      "Epoch 38/50\n",
      "119/119 [==============================] - 3s 21ms/sample - loss: 0.3179 - acc: 0.8908 - val_loss: 0.3072 - val_acc: 0.9048\n",
      "Epoch 39/50\n",
      "119/119 [==============================] - 3s 21ms/sample - loss: 0.2817 - acc: 0.8908 - val_loss: 0.2975 - val_acc: 0.9524\n",
      "Epoch 40/50\n",
      "119/119 [==============================] - 3s 21ms/sample - loss: 0.2953 - acc: 0.9160 - val_loss: 0.2979 - val_acc: 0.9048\n",
      "Epoch 41/50\n",
      "119/119 [==============================] - 3s 21ms/sample - loss: 0.2927 - acc: 0.9076 - val_loss: 0.3026 - val_acc: 0.9048\n",
      "Epoch 42/50\n",
      "119/119 [==============================] - 3s 21ms/sample - loss: 0.2710 - acc: 0.8992 - val_loss: 0.2960 - val_acc: 0.9524\n",
      "Epoch 43/50\n",
      "119/119 [==============================] - 3s 21ms/sample - loss: 0.2801 - acc: 0.9160 - val_loss: 0.3020 - val_acc: 0.9048\n",
      "Epoch 44/50\n",
      "119/119 [==============================] - 3s 21ms/sample - loss: 0.2850 - acc: 0.9160 - val_loss: 0.2918 - val_acc: 0.9048\n",
      "Epoch 45/50\n",
      "119/119 [==============================] - 3s 22ms/sample - loss: 0.2669 - acc: 0.9076 - val_loss: 0.2881 - val_acc: 0.9524\n",
      "Epoch 46/50\n",
      "119/119 [==============================] - 3s 21ms/sample - loss: 0.2881 - acc: 0.9076 - val_loss: 0.2893 - val_acc: 0.9048\n",
      "Epoch 47/50\n",
      "119/119 [==============================] - 3s 21ms/sample - loss: 0.2970 - acc: 0.8992 - val_loss: 0.3055 - val_acc: 0.9048\n",
      "Epoch 48/50\n",
      "119/119 [==============================] - 3s 21ms/sample - loss: 0.2590 - acc: 0.9160 - val_loss: 0.2910 - val_acc: 0.9524\n",
      "Epoch 49/50\n",
      "119/119 [==============================] - 3s 21ms/sample - loss: 0.2754 - acc: 0.9076 - val_loss: 0.2907 - val_acc: 0.9048\n",
      "Epoch 50/50\n",
      "119/119 [==============================] - 3s 21ms/sample - loss: 0.2746 - acc: 0.9076 - val_loss: 0.2926 - val_acc: 0.9048\n"
     ]
    }
   ],
   "source": [
    "history = model.fit(features, labels, epochs=50, batch_size=16, validation_split=0.15)\n",
    "model.save_weights('vggish-bigru-model.h5', overwrite=True)"
   ]
  },
  {
   "cell_type": "code",
   "execution_count": 10,
   "metadata": {},
   "outputs": [
    {
     "data": {
      "text/plain": [
       "Text(0.5, 1.0, 'Loss')"
      ]
     },
     "execution_count": 10,
     "metadata": {},
     "output_type": "execute_result"
    },
    {
     "data": {
      "image/png": "[encoded data removed]",
      "text/plain": [
       "<Figure size 1080x360 with 2 Axes>"
      ]
     },
     "metadata": {
      "needs_background": "light"
     },
     "output_type": "display_data"
    }
   ],
   "source": [
    "import matplotlib.pyplot as plt\n",
    "\n",
    "plt.figure(figsize = (15,5))\n",
    "plt.subplot(1,2,1)\n",
    "plt.title('Accuracy')\n",
    "plt.plot(history.history['acc'], label = 'training acc')\n",
    "plt.plot(history.history['val_acc'], label = 'validation acc')\n",
    "plt.legend()\n",
    "plt.subplot(1,2,2)\n",
    "plt.plot(history.history['loss'], label = 'training loss')\n",
    "plt.plot(history.history['val_loss'], label = 'validation loss')\n",
    "plt.legend()\n",
    "plt.title('Loss')"
   ]
  },
  {
   "cell_type": "code",
   "execution_count": 11,
   "metadata": {},
   "outputs": [
    {
     "name": "stdout",
     "output_type": "stream",
     "text": [
      "              precision    recall  f1-score   support\n",
      "\n",
      "     healthy       0.85      1.00      0.92        70\n",
      "        copd       1.00      0.83      0.91        70\n",
      "\n",
      "    accuracy                           0.91       140\n",
      "   macro avg       0.93      0.91      0.91       140\n",
      "weighted avg       0.93      0.91      0.91       140\n",
      "\n",
      "[[70  0]\n",
      " [12 58]]\n"
     ]
    }
   ],
   "source": [
    "from sklearn.metrics import classification_report, confusion_matrix\n",
    "\n",
    "predictions = model.predict(features)\n",
    "predictions = np.argmax(predictions, axis = 1)\n",
    "labels = np.argmax(labels, axis = 1)\n",
    "\n",
    "print(classification_report(labels, predictions, target_names = ['healthy','copd']))\n",
    "print(confusion_matrix(labels, predictions))"
   ]
  },
  {
   "cell_type": "code",
   "execution_count": null,
   "metadata": {},
   "outputs": [],
   "source": []
  }
 ],
 "metadata": {
  "kernelspec": {
   "display_name": "Python 3",
   "language": "python",
   "name": "python3"
  },
  "language_info": {
   "codemirror_mode": {
    "name": "ipython",
    "version": 3
   },
   "file_extension": ".py",
   "mimetype": "text/x-python",
   "name": "python",
   "nbconvert_exporter": "python",
   "pygments_lexer": "ipython3",
   "version": "3.7.4"
  }
 },
 "nbformat": 4,
 "nbformat_minor": 4
}
